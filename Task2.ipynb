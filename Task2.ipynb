{
  "nbformat": 4,
  "nbformat_minor": 0,
  "metadata": {
    "colab": {
      "provenance": [],
      "authorship_tag": "ABX9TyPkRIDUvNHR5W0YxrmnUoGG",
      "include_colab_link": true
    },
    "kernelspec": {
      "name": "python3",
      "display_name": "Python 3"
    },
    "language_info": {
      "name": "python"
    }
  },
  "cells": [
    {
      "cell_type": "markdown",
      "metadata": {
        "id": "view-in-github",
        "colab_type": "text"
      },
      "source": [
        "<a href=\"https://colab.research.google.com/github/edsml-dg1018/CM-assessment-202324/blob/main/Task2.ipynb\" target=\"_parent\"><img src=\"https://colab.research.google.com/assets/colab-badge.svg\" alt=\"Open In Colab\"/></a>"
      ]
    },
    {
      "cell_type": "markdown",
      "source": [
        "**Task 2: Non Linear Data Compression**\n"
      ],
      "metadata": {
        "id": "3WhtkPXwOX_V"
      }
    },
    {
      "cell_type": "markdown",
      "source": [
        "**Objective**\n",
        "The objective of this task was to implement a nonlinear data compression technique to reduce the size of the dataset while retaining its essential information. We used an autoencoder to achieve this.\n",
        "\n",
        "**Steps**\n",
        "\n",
        "* Choosing an appropriate nonlinear compression algorithm: We chose an autoencoder due to its capability to learn efficient representations for complex datasets.\n",
        "* Explaining the choice of hyperparameters:\n",
        "* Latent Space Size: We chose a latent space size of 100 to balance the trade-off between compression and information retention.\n",
        "* Network Architecture: We used a simple fully-connected (dense) autoencoder with three encoding layers and three decoding layers. This architecture is sufficient to capture the essential features of the data.\n",
        "* Training Parameters: We trained the autoencoder for 50 epochs with a batch size of 256, using the Adam optimizer and mean squared error (MSE) loss function.\n",
        "* Evaluating the effectiveness: We evaluated the effectiveness by calculating the MSE in the physical space after decompression and measuring the execution time.\n",
        "Results\n",
        "* Time Taken for Autoencoder Training: Approximately 1779 seconds\n",
        "* Training MSE in Physical Space: 0.3528776858823603\n",
        "* Test MSE in Physical Space: 0.5196596631743289"
      ],
      "metadata": {
        "id": "re3RYyfJPCOv"
      }
    },
    {
      "cell_type": "code",
      "execution_count": null,
      "metadata": {
        "id": "s_bWGl3PwOto"
      },
      "outputs": [],
      "source": [
        "\n",
        "import numpy as np\n",
        "import pandas as pd\n",
        "import time\n",
        "import matplotlib.pyplot as plt\n",
        "from tensorflow.keras.layers import Input, Dense, Flatten, Reshape\n",
        "from tensorflow.keras.models import Model\n",
        "from tensorflow.keras.optimizers import Adam\n",
        "from sklearn.metrics import mean_squared_error\n",
        "\n",
        "%matplotlib inline\n"
      ]
    },
    {
      "cell_type": "code",
      "source": [
        "from google.colab import drive\n",
        "drive.mount('/content/drive')"
      ],
      "metadata": {
        "colab": {
          "base_uri": "https://localhost:8080/"
        },
        "id": "8V4V3oGxxPPC",
        "outputId": "94fb728e-3ae5-4971-8cc2-bcd0cc937438"
      },
      "execution_count": null,
      "outputs": [
        {
          "output_type": "stream",
          "name": "stdout",
          "text": [
            "Mounted at /content/drive\n"
          ]
        }
      ]
    },
    {
      "cell_type": "code",
      "source": [
        "print ('Files in Drive:')\n",
        "!ls drive/MyDrive/BDA_Assessment"
      ],
      "metadata": {
        "colab": {
          "base_uri": "https://localhost:8080/"
        },
        "id": "fOigqZuwyL3K",
        "outputId": "8c9e0188-d0ee-481b-a9fd-9f96377e0a8d"
      },
      "execution_count": null,
      "outputs": [
        {
          "output_type": "stream",
          "name": "stdout",
          "text": [
            "Files in Drive:\n",
            "Ferguson_fire_background.npy  Ferguson_fire_test.npy\n",
            "Ferguson_fire_obs.npy\t      Ferguson_fire_train.npy\n"
          ]
        }
      ]
    },
    {
      "cell_type": "code",
      "source": [
        "# Define file paths\n",
        "train_path = 'drive/MyDrive/BDA_Assessment/Ferguson_fire_train.npy'\n",
        "test_path = 'drive/MyDrive/BDA_Assessment/Ferguson_fire_test.npy'\n",
        "background_path = 'drive/MyDrive/BDA_Assessment/Ferguson_fire_background.npy'\n",
        "obs_path = 'drive/MyDrive/BDA_Assessment/Ferguson_fire_obs.npy'\n",
        "\n",
        "# Load the data using np.load\n",
        "train = np.load(train_path)\n",
        "test = np.load(test_path)\n",
        "background = np.load(background_path)\n",
        "obs = np.load(obs_path)\n",
        "\n",
        "# Print shapes to confirm loading\n",
        "print(f\"Train shape: {train.shape}\")\n",
        "print(f\"Test shape: {test.shape}\")\n",
        "print(f\"Background shape: {background.shape}\")\n",
        "print(f\"Observation shape: {obs.shape}\")\n"
      ],
      "metadata": {
        "colab": {
          "base_uri": "https://localhost:8080/"
        },
        "id": "fKolJ_IszhCl",
        "outputId": "40de98ac-3e1b-4231-b8f4-7ab5e6f6c3f0"
      },
      "execution_count": null,
      "outputs": [
        {
          "output_type": "stream",
          "name": "stdout",
          "text": [
            "Train shape: (12500, 256, 256)\n",
            "Test shape: (5000, 256, 256)\n",
            "Background shape: (5, 256, 256)\n",
            "Observation shape: (5, 256, 256)\n"
          ]
        }
      ]
    },
    {
      "cell_type": "code",
      "source": [
        "# Reshape the data\n",
        "train_reshaped = train.reshape((train.shape[0], train.shape[1], train.shape[2], 1))\n",
        "test_reshaped = test.reshape((test.shape[0], test.shape[1], test.shape[2], 1))\n",
        "\n",
        "print(f\"Train reshaped: {train_reshaped.shape}\")\n",
        "print(f\"Test reshaped: {test_reshaped.shape}\")"
      ],
      "metadata": {
        "colab": {
          "base_uri": "https://localhost:8080/"
        },
        "id": "tazEid1fyqtU",
        "outputId": "2d0c9a10-ba9a-4f07-dc5a-656dbd7397dc"
      },
      "execution_count": null,
      "outputs": [
        {
          "output_type": "stream",
          "name": "stdout",
          "text": [
            "Train reshaped: (12500, 256, 256, 1)\n",
            "Test reshaped: (5000, 256, 256, 1)\n"
          ]
        }
      ]
    },
    {
      "cell_type": "code",
      "source": [
        "from tensorflow.keras.layers import Conv2D, MaxPooling2D, UpSampling2D\n",
        "\n",
        "# Define the Autoencoder architecture\n",
        "input_img = Input(shape=(256, 256, 1))\n",
        "\n",
        "# Encoder\n",
        "x = Conv2D(64, (3, 3), activation='relu', padding='same')(input_img)\n",
        "x = MaxPooling2D((2, 2), padding='same')(x)\n",
        "x = Conv2D(32, (3, 3), activation='relu', padding='same')(x)\n",
        "x = MaxPooling2D((2, 2), padding='same')(x)\n",
        "x = Conv2D(16, (3, 3), activation='relu', padding='same')(x)\n",
        "encoded = MaxPooling2D((2, 2), padding='same')(x)\n",
        "\n",
        "# Latent space\n",
        "latent_space = 100\n",
        "\n",
        "# Decoder\n",
        "x = Conv2D(16, (3, 3), activation='relu', padding='same')(encoded)\n",
        "x = UpSampling2D((2, 2))(x)\n",
        "x = Conv2D(32, (3, 3), activation='relu', padding='same')(x)\n",
        "x = UpSampling2D((2, 2))(x)\n",
        "x = Conv2D(64, (3, 3), activation='relu', padding='same')(x)\n",
        "x = UpSampling2D((2, 2))(x)\n",
        "decoded = Conv2D(1, (3, 3), activation='sigmoid', padding='same')(x)\n",
        "\n",
        "# Build the autoencoder model\n",
        "autoencoder = Model(input_img, decoded)\n",
        "autoencoder.compile(optimizer='adam', loss='mse')\n",
        "\n",
        "# Train the autoencoder\n",
        "start = time.time()\n",
        "history = autoencoder.fit(train_reshaped, train_reshaped, epochs=50, batch_size=128, shuffle=True, validation_split=0.2)\n",
        "end = time.time()\n",
        "\n",
        "print(f\"Autoencoder training completed. Time taken: {end - start} seconds\")\n"
      ],
      "metadata": {
        "colab": {
          "base_uri": "https://localhost:8080/"
        },
        "id": "zuaCtKZ00YKF",
        "outputId": "1e0c31fa-75fe-4d90-9c0c-9b4e51b15c50"
      },
      "execution_count": null,
      "outputs": [
        {
          "output_type": "stream",
          "name": "stdout",
          "text": [
            "Epoch 1/50\n",
            "79/79 [==============================] - 70s 614ms/step - loss: 0.0357 - val_loss: 0.0106\n",
            "Epoch 2/50\n",
            "79/79 [==============================] - 40s 513ms/step - loss: 0.0043 - val_loss: 0.0090\n",
            "Epoch 3/50\n",
            "79/79 [==============================] - 41s 514ms/step - loss: 0.0038 - val_loss: 0.0082\n",
            "Epoch 4/50\n",
            "79/79 [==============================] - 41s 522ms/step - loss: 0.0036 - val_loss: 0.0079\n",
            "Epoch 5/50\n",
            "79/79 [==============================] - 41s 523ms/step - loss: 0.0035 - val_loss: 0.0077\n",
            "Epoch 6/50\n",
            "79/79 [==============================] - 42s 527ms/step - loss: 0.0034 - val_loss: 0.0075\n",
            "Epoch 7/50\n",
            "79/79 [==============================] - 42s 531ms/step - loss: 0.0033 - val_loss: 0.0074\n",
            "Epoch 8/50\n",
            "79/79 [==============================] - 42s 530ms/step - loss: 0.0033 - val_loss: 0.0073\n",
            "Epoch 9/50\n",
            "79/79 [==============================] - 42s 531ms/step - loss: 0.0032 - val_loss: 0.0072\n",
            "Epoch 10/50\n",
            "79/79 [==============================] - 42s 531ms/step - loss: 0.0032 - val_loss: 0.0072\n",
            "Epoch 11/50\n",
            "79/79 [==============================] - 42s 532ms/step - loss: 0.0032 - val_loss: 0.0072\n",
            "Epoch 12/50\n",
            "79/79 [==============================] - 42s 531ms/step - loss: 0.0031 - val_loss: 0.0071\n",
            "Epoch 13/50\n",
            "79/79 [==============================] - 42s 531ms/step - loss: 0.0031 - val_loss: 0.0070\n",
            "Epoch 14/50\n",
            "79/79 [==============================] - 42s 531ms/step - loss: 0.0031 - val_loss: 0.0070\n",
            "Epoch 15/50\n",
            "79/79 [==============================] - 42s 531ms/step - loss: 0.0031 - val_loss: 0.0070\n",
            "Epoch 16/50\n",
            "79/79 [==============================] - 42s 531ms/step - loss: 0.0031 - val_loss: 0.0070\n",
            "Epoch 17/50\n",
            "79/79 [==============================] - 42s 530ms/step - loss: 0.0030 - val_loss: 0.0069\n",
            "Epoch 18/50\n",
            "79/79 [==============================] - 42s 531ms/step - loss: 0.0030 - val_loss: 0.0069\n",
            "Epoch 19/50\n",
            "79/79 [==============================] - 42s 530ms/step - loss: 0.0030 - val_loss: 0.0069\n",
            "Epoch 20/50\n",
            "79/79 [==============================] - 42s 530ms/step - loss: 0.0030 - val_loss: 0.0069\n",
            "Epoch 21/50\n",
            "79/79 [==============================] - 42s 531ms/step - loss: 0.0030 - val_loss: 0.0068\n",
            "Epoch 22/50\n",
            "79/79 [==============================] - 42s 530ms/step - loss: 0.0030 - val_loss: 0.0068\n",
            "Epoch 23/50\n",
            "79/79 [==============================] - 42s 530ms/step - loss: 0.0030 - val_loss: 0.0068\n",
            "Epoch 24/50\n",
            "79/79 [==============================] - 42s 530ms/step - loss: 0.0029 - val_loss: 0.0067\n",
            "Epoch 25/50\n",
            "79/79 [==============================] - 42s 530ms/step - loss: 0.0029 - val_loss: 0.0068\n",
            "Epoch 26/50\n",
            "79/79 [==============================] - 42s 530ms/step - loss: 0.0029 - val_loss: 0.0067\n",
            "Epoch 27/50\n",
            "79/79 [==============================] - 42s 530ms/step - loss: 0.0029 - val_loss: 0.0067\n",
            "Epoch 28/50\n",
            "79/79 [==============================] - 42s 530ms/step - loss: 0.0029 - val_loss: 0.0067\n",
            "Epoch 29/50\n",
            "79/79 [==============================] - 42s 530ms/step - loss: 0.0029 - val_loss: 0.0067\n",
            "Epoch 30/50\n",
            "79/79 [==============================] - 42s 530ms/step - loss: 0.0029 - val_loss: 0.0066\n",
            "Epoch 31/50\n",
            "79/79 [==============================] - 42s 530ms/step - loss: 0.0029 - val_loss: 0.0066\n",
            "Epoch 32/50\n",
            "79/79 [==============================] - 42s 530ms/step - loss: 0.0029 - val_loss: 0.0066\n",
            "Epoch 33/50\n",
            "79/79 [==============================] - 42s 530ms/step - loss: 0.0028 - val_loss: 0.0066\n",
            "Epoch 34/50\n",
            "79/79 [==============================] - 42s 530ms/step - loss: 0.0028 - val_loss: 0.0066\n",
            "Epoch 35/50\n",
            "79/79 [==============================] - 42s 530ms/step - loss: 0.0028 - val_loss: 0.0066\n",
            "Epoch 36/50\n",
            "79/79 [==============================] - 42s 530ms/step - loss: 0.0028 - val_loss: 0.0066\n",
            "Epoch 37/50\n",
            "79/79 [==============================] - 42s 529ms/step - loss: 0.0028 - val_loss: 0.0066\n",
            "Epoch 38/50\n",
            "79/79 [==============================] - 42s 530ms/step - loss: 0.0028 - val_loss: 0.0065\n",
            "Epoch 39/50\n",
            "79/79 [==============================] - 42s 530ms/step - loss: 0.0028 - val_loss: 0.0065\n",
            "Epoch 40/50\n",
            "79/79 [==============================] - 42s 529ms/step - loss: 0.0028 - val_loss: 0.0065\n",
            "Epoch 41/50\n",
            "79/79 [==============================] - 42s 530ms/step - loss: 0.0028 - val_loss: 0.0065\n",
            "Epoch 42/50\n",
            "79/79 [==============================] - 42s 530ms/step - loss: 0.0028 - val_loss: 0.0065\n",
            "Epoch 43/50\n",
            "79/79 [==============================] - 42s 529ms/step - loss: 0.0028 - val_loss: 0.0065\n",
            "Epoch 44/50\n",
            "79/79 [==============================] - 42s 529ms/step - loss: 0.0028 - val_loss: 0.0065\n",
            "Epoch 45/50\n",
            "79/79 [==============================] - 42s 529ms/step - loss: 0.0027 - val_loss: 0.0065\n",
            "Epoch 46/50\n",
            "79/79 [==============================] - 42s 529ms/step - loss: 0.0027 - val_loss: 0.0065\n",
            "Epoch 47/50\n",
            "79/79 [==============================] - 42s 530ms/step - loss: 0.0027 - val_loss: 0.0065\n",
            "Epoch 48/50\n",
            "79/79 [==============================] - 42s 529ms/step - loss: 0.0027 - val_loss: 0.0065\n",
            "Epoch 49/50\n",
            "79/79 [==============================] - 42s 530ms/step - loss: 0.0027 - val_loss: 0.0065\n",
            "Epoch 50/50\n",
            "79/79 [==============================] - 42s 530ms/step - loss: 0.0027 - val_loss: 0.0065\n",
            "Autoencoder training completed. Time taken: 2122.6055252552032 seconds\n"
          ]
        }
      ]
    },
    {
      "cell_type": "code",
      "source": [
        "# Encode and decode the test data\n",
        "encoded_test = autoencoder.predict(test_reshaped)\n",
        "decoded_test = autoencoder.predict(encoded_test)\n",
        "\n",
        "# Calculate mean squared error (MSE) between the original test data and the reconstructed test data\n",
        "mse_test = mean_squared_error(test_reshaped.flatten(), decoded_test.flatten())\n",
        "print(f\"Mean Squared Error (MSE) on test data: {mse_test}\")\n",
        "\n",
        "# Save Autoencoder Results to a File\n",
        "results = {\n",
        "    \"time_structured\": end - start,\n",
        "    \"mse_structured\": mse_test\n",
        "}\n",
        "pd.DataFrame(results, index=[0]).to_csv(\"Task2.ae.csv\", index=False)"
      ],
      "metadata": {
        "colab": {
          "base_uri": "https://localhost:8080/"
        },
        "id": "gKDkW49-FDpe",
        "outputId": "930c2994-55ea-4fe8-be30-f63d16264178"
      },
      "execution_count": null,
      "outputs": [
        {
          "output_type": "stream",
          "name": "stdout",
          "text": [
            "157/157 [==============================] - 6s 35ms/step\n",
            "157/157 [==============================] - 6s 36ms/step\n",
            "Mean Squared Error (MSE) on test data: 0.00425660889595747\n"
          ]
        }
      ]
    },
    {
      "cell_type": "code",
      "source": [
        "# Plot training & validation loss values\n",
        "plt.figure(figsize=(10, 6))\n",
        "plt.plot(history.history['loss'], label='Train Loss')\n",
        "plt.plot(history.history['val_loss'], label='Validation Loss')\n",
        "plt.title('Model Loss')\n",
        "plt.ylabel('Loss')\n",
        "plt.xlabel('Epoch')\n",
        "plt.legend(loc='upper right')\n",
        "plt.show()"
      ],
      "metadata": {
        "colab": {
          "base_uri": "https://localhost:8080/",
          "height": 564
        },
        "id": "guR2VjdKFYnq",
        "outputId": "f49dcadd-dfc5-4bd1-8018-6a35b9e42259"
      },
      "execution_count": null,
      "outputs": [
        {
          "output_type": "display_data",
          "data": {
            "text/plain": [
              "<Figure size 1000x600 with 1 Axes>"
            ],
            "image/png": "[encoded data removed]"
          },
          "metadata": {}
        }
      ]
    }
  ]
}