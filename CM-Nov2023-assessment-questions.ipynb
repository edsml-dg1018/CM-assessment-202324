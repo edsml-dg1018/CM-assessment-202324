{
 "cells": [
  {
   "cell_type": "markdown",
   "metadata": {
    "toc": true
   },
   "source": [
    "<h1>Table of Contents<span class=\"tocSkip\"></span></h1>\n",
    "<div class=\"toc\"><ul class=\"toc-item\"><li><span><a href=\"#Question-1-[30-marks]\" data-toc-modified-id=\"Question-1-[30-marks]-1\"><span class=\"toc-item-num\">1&nbsp;&nbsp;</span>Question 1 [30 marks]</a></span></li><li><span><a href=\"#Question-2-[30-marks]\" data-toc-modified-id=\"Question-2-[30-marks]-2\"><span class=\"toc-item-num\">2&nbsp;&nbsp;</span>Question 2 [30 marks]</a></span></li><li><span><a href=\"#Question-3-[40-marks]\" data-toc-modified-id=\"Question-3-[40-marks]-3\"><span class=\"toc-item-num\">3&nbsp;&nbsp;</span>Question 3 [40 marks]</a></span></li></ul></div>"
   ]
  },
  {
   "cell_type": "markdown",
   "metadata": {},
   "source": [
    "# Computational Mathematics <a class=\"tocSkip\">\n",
    "\n",
    "## 2023/24 Assessment - solutions <a class=\"tocSkip\">"
   ]
  },
  {
   "cell_type": "markdown",
   "metadata": {},
   "source": [
    "## Release: 10AM Thursday 2 November 2023 <a class=\"tocSkip\">\n",
    "\n",
    "## Deadline: 5PM Friday 3 November 2023 <a class=\"tocSkip\">"
   ]
  },
  {
   "cell_type": "markdown",
   "metadata": {},
   "source": [
    "# Instructions  <a class=\"tocSkip\">\n",
    "    \n",
    "\n",
    "- This is the assessed coursework for module \"Computational Mathematics\" for year 2023/24.\n",
    "\n",
    "\n",
    "- **This is independent work, you cannot work in groups.**\n",
    "\n",
    "\n",
    "- This notebook contains three questions. Please answer all questions.\n",
    "\n",
    "\n",
    "- You will be assessed on both your code as well as your supporting descriptions/discussions of the results you obtain.\n",
    "\n",
    "\n",
    "- You may use any library we used in lectures, and you may reuse any code from lectures and homeworks. If you use an algorithm not explicitly mentioned in the question, then please explain which algorithm you are using and why you have chosen it.\n",
    "\n",
    "\n",
    "- You should submit your solutions as a single self-contained Jupyter notebooks via Github classroom - **please submit a version where you have run all of the cells and all the outputs/plots etc are visible without the marker having to run the notebook themselves**.\n",
    "    \n",
    "    \n",
    "\n",
    "- If you are happy to write down your mathematical work in the form of Latex directly within this notebook then feel free to do this.\n",
    "\n",
    "\n",
    "- Alternatively you may if you choose submit parts of your answers via **scans or photos of hand written pages** - feel free to use this option in particular for supplementary sketches, equations or where I have asked you to complete a task with \"pen and paper\". You will not be marked down for not embedding equations into your markdown cells. Please make sure that the question number each sheet you scan refers to is very clear. Even if you embed the images within the notebook, please also commit the images files to your github submission."
   ]
  },
  {
   "cell_type": "code",
   "execution_count": 1,
   "metadata": {
    "scrolled": false
   },
   "outputs": [],
   "source": [
    "# update as necessary for your solutions\n",
    "%matplotlib inline\n",
    "import numpy as np\n",
    "import matplotlib.pyplot as plt\n",
    "import scipy.linalg as sl\n",
    "import scipy.interpolate as si\n",
    "from mpltools import annotation\n",
    "import scipy.integrate"
   ]
  },
  {
   "cell_type": "markdown",
   "metadata": {},
   "source": [
    "# Question 1 [30 marks]\n",
    "\n",
    "Consider the following two statements\n",
    "\n",
    "<br>\n",
    "\n",
    "1. All models are wrong, but some are useful.\n",
    "\n",
    "\n",
    "2. A model may get the right answer for the wrong reason.\n",
    "\n",
    "\n",
    "<br>\n",
    "\n",
    "Where here we interpret a \"model\" as a piece of code written to provide a synthetic representation of some real world phenomena.\n",
    "\n",
    "<br>\n",
    "\n",
    "- (a) Explain what each of these two statements means and why they are important. \n",
    "\n",
    "<br>\n",
    "\n",
    "- (b) What can we as \"model\" developers do to mitigate the issues that may be implied by these two statements.\n",
    "\n",
    "<br>\n",
    "\n",
    "- (c) Explain the concepts of code verification, solution verification, model validation and model calibration. Use your own invented example to support your answers, where your model can be written in the form of a solution to a linear system.\n"
   ]
  },
  {
   "cell_type": "code",
   "execution_count": null,
   "metadata": {},
   "outputs": [],
   "source": []
  },
  {
   "cell_type": "code",
   "execution_count": null,
   "metadata": {},
   "outputs": [],
   "source": []
  },
  {
   "cell_type": "markdown",
   "metadata": {},
   "source": [
    "# Question 2 [30 marks]\n",
    "\n",
    "Consider a function of one independent variable: $f(x)$.\n",
    "\n",
    "<br>\n",
    "\n",
    "The first-order forward difference approximation to the derivative of $f$ at location $x$ is given by\n",
    "\n",
    "$$ f'(x)\\approx \\frac{f(x+\\Delta x)-f(x)}{\\Delta x} $$\n",
    "\n",
    "The second-order central difference approximation to the derivative of $f$ at location $x$ is given by \n",
    "\n",
    "$$ f'(x)\\approx \\frac{f(x+\\Delta x)-f(x - \\Delta x)}{2 \\Delta x} $$\n",
    "\n",
    "The fourth-order central difference approximation to the derivative of $f$ at location $x$ is given by\n",
    "\n",
    "$$ f'(x)\\approx \\frac{-f(x + 2\\Delta x) + 8 f(x+\\Delta x)- 8 f(x - \\Delta x) + f(x - 2\\Delta x)}{12 \\Delta x} $$\n",
    "\n",
    "<br>\n",
    "\n",
    "- Use Taylor series analyses to confirm the orders of accuracies of the above approximations.\n",
    "\n",
    "<br>\n",
    "\n",
    "- Implement these approximations in code, and verify your implementations using the fact that\n",
    "\n",
    "$$\\left. \\frac{d}{dx} \\exp (x) \\right|_{x=1} = \\exp(1) $$\n",
    "\n",
    "- Explain why such a verification exercise give you faith that your implementations are correct.\n",
    "\n",
    "<br>\n",
    "\n",
    "- Demonstrate what happens if you take $\\Delta x$ values that are too large or too small, i.e. as $\\Delta x\\rightarrow 0 $ and $\\Delta x\\rightarrow \\infty $. Comment on whether the behaviour you observe is what you expect, and why?"
   ]
  },
  {
   "cell_type": "code",
   "execution_count": null,
   "metadata": {},
   "outputs": [],
   "source": []
  },
  {
   "cell_type": "markdown",
   "metadata": {},
   "source": [
    "# Question 3 [40 marks]\n",
    "\n",
    "Consider the following function over the interval $[-1,1]$. "
   ]
  },
  {
   "cell_type": "code",
   "execution_count": 8,
   "metadata": {},
   "outputs": [],
   "source": [
    "def our_func(x):\n",
    "    # you can vary the 100 that appears below to change a key behaviour of this function\n",
    "    # feel free to update this function to pass it in as a variable\n",
    "    return 1.0 + (0.2 / (1.0 + (100.0 * x**2)))"
   ]
  },
  {
   "cell_type": "markdown",
   "metadata": {},
   "source": [
    "\n",
    "\n",
    "This function has been chosen because it is challenging to interpolate and to numerically integrate due to its rapid variation around $x=0$.\n",
    "\n",
    "But varying the number 100 that appears in this formula we can make it more/less of a challenging problem to interpolate/integrate.\n",
    "\n",
    "This is a two part question on (a) interpolation and (b) quadrature."
   ]
  },
  {
   "cell_type": "markdown",
   "metadata": {},
   "source": [
    "Note that we can use Sympy to differentiate this function and to provide indefinite and definite integrals to this function as follows"
   ]
  },
  {
   "cell_type": "code",
   "execution_count": 10,
   "metadata": {},
   "outputs": [
    {
     "data": {
      "image/png": "[encoded data removed]",
      "text/latex": [
       "$\\displaystyle 1.0 + \\frac{0.2}{100.0 x^{2} + 1.0}$"
      ],
      "text/plain": [
       "           0.2      \n",
       "1.0 + ──────────────\n",
       "             2      \n",
       "      100.0⋅x  + 1.0"
      ]
     },
     "execution_count": 10,
     "metadata": {},
     "output_type": "execute_result"
    }
   ],
   "source": [
    "\n",
    "# import Python's symbolic math library\n",
    "import sympy as sym\n",
    "# print maths nicely:\n",
    "sym.init_printing()\n",
    "# define the 'symbols' that will be our variables/parameters\n",
    "x = sym.symbols('x')\n",
    "# define a function \n",
    "expr = 1.0 + (0.2 / (1.0 + (100.0 * x**2))) \n",
    "# print it out to check it's correct\n",
    "expr"
   ]
  },
  {
   "cell_type": "code",
   "execution_count": 11,
   "metadata": {},
   "outputs": [
    {
     "data": {
      "image/png": "[encoded data removed]",
      "text/latex": [
       "$\\displaystyle 1.0 x + 0.02 \\operatorname{atan}{\\left(10.0 x \\right)}$"
      ],
      "text/plain": [
       "1.0⋅x + 0.02⋅atan(10.0⋅x)"
      ]
     },
     "execution_count": 11,
     "metadata": {},
     "output_type": "execute_result"
    }
   ],
   "source": [
    "# this is its indefinite integral\n",
    "sym.integrate(expr,x)"
   ]
  },
  {
   "cell_type": "code",
   "execution_count": 12,
   "metadata": {},
   "outputs": [
    {
     "name": "stdout",
     "output_type": "stream",
     "text": [
      "2.05884510697215\n"
     ]
    }
   ],
   "source": [
    "# and this is its definite integral between bounds -1 and 1 - we store it in variable true_int\n",
    "# for later use in computing errors.\n",
    "true_int = sym.integrate(expr,(x,-1,1))\n",
    "print(true_int)"
   ]
  },
  {
   "cell_type": "code",
   "execution_count": 13,
   "metadata": {},
   "outputs": [
    {
     "data": {
      "image/png": "[encoded data removed]",
      "text/latex": [
       "$\\displaystyle - \\frac{0.004 x}{\\left(x^{2} + 0.01\\right)^{2}}$"
      ],
      "text/plain": [
       " -0.004⋅x   \n",
       "────────────\n",
       "           2\n",
       "⎛ 2       ⎞ \n",
       "⎝x  + 0.01⎠ "
      ]
     },
     "execution_count": 13,
     "metadata": {},
     "output_type": "execute_result"
    }
   ],
   "source": [
    "# if you wanted to differentiate once, this is how you could do it\n",
    "sym.diff(expr, x)"
   ]
  },
  {
   "cell_type": "code",
   "execution_count": 14,
   "metadata": {},
   "outputs": [
    {
     "data": {
      "image/png": "[encoded data removed]",
      "text/latex": [
       "$\\displaystyle \\frac{\\frac{0.016 x^{2}}{x^{2} + 0.01} - 0.004}{\\left(x^{2} + 0.01\\right)^{2}}$"
      ],
      "text/plain": [
       "        2        \n",
       " 0.016⋅x         \n",
       "───────── - 0.004\n",
       " 2               \n",
       "x  + 0.01        \n",
       "─────────────────\n",
       "              2  \n",
       "   ⎛ 2       ⎞   \n",
       "   ⎝x  + 0.01⎠   "
      ]
     },
     "execution_count": 14,
     "metadata": {},
     "output_type": "execute_result"
    }
   ],
   "source": [
    "# and the second derivative\n",
    "sym.diff(expr, x, x)\n",
    "# and so on"
   ]
  },
  {
   "cell_type": "markdown",
   "metadata": {},
   "source": [
    "(a) Interpolation\n",
    "\n",
    "- Firstly plot the function and explain how making the 100 that appears in the function larger and smaller (e.g. try halving and doubling it) changes the function's behaviour and why this behaviour makes this a challenging problem to interpolate. Please only consider piecewise polynomial interpolation with relatively low order polynomials within this question (you do not need to consider the \"Runge phenomena\" mentioned in class).\n",
    "\n",
    "<br>\n",
    "\n",
    "\n",
    "- Now use piecewise polynomial interpolation to approximate the function, demonstrating how the error in your approximation varies with number of \"pieces\" (i.e. sub intervals) and polynomial order.\n",
    "\n",
    "<br>\n",
    "\n",
    "\n",
    "- Given that this function varies a lot in the middle of our interval, but less so away from the origin, investigate how you might be able to use non uniform sized sub-intervals in order to balance accuracy in your approximation vs the number of sub-intervals or function evaluations."
   ]
  },
  {
   "cell_type": "markdown",
   "metadata": {},
   "source": [
    "(b) Quadrature\n",
    "\n",
    "- Use some of the methods we considered in lectures to approximate the definite integral to this function over the interval stated above. Compare their performance in terms of error vs number of sub-intervals.\n",
    "\n",
    "<br>\n",
    "\n",
    "\n",
    "- How does the convergence analysis change if you consider error vs number of function evaluations? By considering the implementations of the Trapezoidal and Simpsons rules from lectures, how might you be able to update our basic implementations in order to minimise function evaluations (e.g. through re-use in one sub interval of function evaluations from the previous sub-interval) - try implementing and verifying these ideas.\n",
    "\n",
    "<br>\n",
    "\n",
    "\n",
    "- Investigate the use of non-uniform sub-interval size in order to further optimise the error vs number of function evaluations relationship."
   ]
  },
  {
   "cell_type": "code",
   "execution_count": null,
   "metadata": {},
   "outputs": [],
   "source": []
  }
 ],
 "metadata": {
  "celltoolbar": "Slideshow",
  "kernelspec": {
   "display_name": "Python 3",
   "language": "python",
   "name": "python3"
  },
  "language_info": {
   "codemirror_mode": {
    "name": "ipython",
    "version": 3
   },
   "file_extension": ".py",
   "mimetype": "text/x-python",
   "name": "python",
   "nbconvert_exporter": "python",
   "pygments_lexer": "ipython3",
   "version": "3.7.13"
  },
  "latex_envs": {
   "LaTeX_envs_menu_present": true,
   "autoclose": false,
   "autocomplete": true,
   "bibliofile": "biblio.bib",
   "cite_by": "apalike",
   "current_citInitial": 1,
   "eqLabelWithNumbers": true,
   "eqNumInitial": 1,
   "hotkeys": {
    "equation": "Ctrl-E",
    "itemize": "Ctrl-I"
   },
   "labels_anchors": false,
   "latex_user_defs": false,
   "report_style_numbering": false,
   "user_envs_cfg": false
  },
  "toc": {
   "base_numbering": 1,
   "nav_menu": {},
   "number_sections": true,
   "sideBar": true,
   "skip_h1_title": false,
   "title_cell": "Table of Contents",
   "title_sidebar": "Contents",
   "toc_cell": true,
   "toc_position": {},
   "toc_section_display": true,
   "toc_window_display": false
  }
 },
 "nbformat": 4,
 "nbformat_minor": 1
}
